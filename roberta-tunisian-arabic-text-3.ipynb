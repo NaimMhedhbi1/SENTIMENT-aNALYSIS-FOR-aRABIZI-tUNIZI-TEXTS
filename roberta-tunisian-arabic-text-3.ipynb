{
 "cells": [
  {
   "cell_type": "markdown",
   "metadata": {
    "papermill": {
     "duration": 0.028408,
     "end_time": "2020-12-30T14:06:43.867286",
     "exception": false,
     "start_time": "2020-12-30T14:06:43.838878",
     "status": "completed"
    },
    "tags": []
   },
   "source": [
    "# Objective"
   ]
  },
  {
   "cell_type": "markdown",
   "metadata": {
    "papermill": {
     "duration": 0.025591,
     "end_time": "2020-12-30T14:06:43.919253",
     "exception": false,
     "start_time": "2020-12-30T14:06:43.893662",
     "status": "completed"
    },
    "tags": []
   },
   "source": [
    "To build multilingual models with English-only training data to find the toxicity among Mutilingual Comments"
   ]
  },
  {
   "cell_type": "code",
   "execution_count": 1,
   "metadata": {
    "_cell_guid": "b1076dfc-b9ad-4769-8c92-a6c4dae69d19",
    "_kg_hide-output": true,
    "_uuid": "8f2839f25d086af736a60e9eeb907d3b93b6e0e5",
    "execution": {
     "iopub.execute_input": "2020-12-30T14:06:43.977991Z",
     "iopub.status.busy": "2020-12-30T14:06:43.977279Z",
     "iopub.status.idle": "2020-12-30T14:06:44.030603Z",
     "shell.execute_reply": "2020-12-30T14:06:44.029995Z"
    },
    "papermill": {
     "duration": 0.085767,
     "end_time": "2020-12-30T14:06:44.030718",
     "exception": false,
     "start_time": "2020-12-30T14:06:43.944951",
     "status": "completed"
    },
    "tags": []
   },
   "outputs": [
    {
     "name": "stdout",
     "output_type": "stream",
     "text": [
      "/kaggle/input/sentiment/Train.csv\n",
      "/kaggle/input/sentiment/Test.csv\n"
     ]
    }
   ],
   "source": [
    "# This Python 3 environment comes with many helpful analytics libraries installed\n",
    "# It is defined by the kaggle/python Docker image: https://github.com/kaggle/docker-python\n",
    "# For example, here's several helpful packages to load\n",
    "\n",
    "import numpy as np # linear algebra\n",
    "import pandas as pd # data processing, CSV file I/O (e.g. pd.read_csv)\n",
    "\n",
    "# Input data files are available in the read-only \"../input/\" directory\n",
    "# For example, running this (by clicking run or pressing Shift+Enter) will list all files under the input directory\n",
    "\n",
    "import os\n",
    "for dirname, _, filenames in os.walk('/kaggle/input'):\n",
    "    for filename in filenames:\n",
    "        print(os.path.join(dirname, filename))\n",
    "        \n",
    "# You can write up to 5GB to the current directory (/kaggle/working/) that gets preserved as output when you create a version using \"Save & Run All\" \n",
    "# You can also write temporary files to /kaggle/temp/, but they won't be saved outside of the current session"
   ]
  },
  {
   "cell_type": "markdown",
   "metadata": {
    "papermill": {
     "duration": 0.026,
     "end_time": "2020-12-30T14:06:44.086078",
     "exception": false,
     "start_time": "2020-12-30T14:06:44.060078",
     "status": "completed"
    },
    "tags": []
   },
   "source": [
    "## Importing Required Libraries"
   ]
  },
  {
   "cell_type": "code",
   "execution_count": 2,
   "metadata": {
    "_cell_guid": "79c7e3d0-c299-4dcb-8224-4455121ee9b0",
    "_uuid": "d629ff2d2480ee46fbb7e2d37f6b5fab8052498a",
    "execution": {
     "iopub.execute_input": "2020-12-30T14:06:44.142833Z",
     "iopub.status.busy": "2020-12-30T14:06:44.141706Z",
     "iopub.status.idle": "2020-12-30T14:06:53.594258Z",
     "shell.execute_reply": "2020-12-30T14:06:53.593511Z"
    },
    "papermill": {
     "duration": 9.48214,
     "end_time": "2020-12-30T14:06:53.594386",
     "exception": false,
     "start_time": "2020-12-30T14:06:44.112246",
     "status": "completed"
    },
    "tags": []
   },
   "outputs": [
    {
     "name": "stderr",
     "output_type": "stream",
     "text": [
      "\u001b[34m\u001b[1mwandb\u001b[0m: \u001b[33mWARNING\u001b[0m W&B installed but not logged in.  Run `wandb login` or set the WANDB_API_KEY env variable.\n"
     ]
    }
   ],
   "source": [
    "import pandas as pd\n",
    "import numpy as np\n",
    "import matplotlib.pyplot as plt\n",
    "import seaborn as sns\n",
    "import re\n",
    "import tensorflow as tf\n",
    "from tensorflow import keras\n",
    "from wordcloud import WordCloud, STOPWORDS\n",
    "import nltk\n",
    "import warnings\n",
    "warnings.filterwarnings('ignore')\n",
    "import random\n",
    "from transformers import AutoTokenizer, TFAutoModel, AutoModelWithLMHead\n",
    "from sklearn.model_selection import StratifiedKFold\n",
    "import tensorflow.keras.backend as K\n",
    "from tqdm.notebook import tqdm\n",
    "from sklearn.utils import shuffle"
   ]
  },
  {
   "cell_type": "markdown",
   "metadata": {
    "papermill": {
     "duration": 0.026355,
     "end_time": "2020-12-30T14:06:53.648783",
     "exception": false,
     "start_time": "2020-12-30T14:06:53.622428",
     "status": "completed"
    },
    "tags": []
   },
   "source": [
    "## Detecting TPU"
   ]
  },
  {
   "cell_type": "code",
   "execution_count": 3,
   "metadata": {
    "execution": {
     "iopub.execute_input": "2020-12-30T14:06:53.720996Z",
     "iopub.status.busy": "2020-12-30T14:06:53.719466Z",
     "iopub.status.idle": "2020-12-30T14:06:58.126919Z",
     "shell.execute_reply": "2020-12-30T14:06:58.126344Z"
    },
    "papermill": {
     "duration": 4.451322,
     "end_time": "2020-12-30T14:06:58.127051",
     "exception": false,
     "start_time": "2020-12-30T14:06:53.675729",
     "status": "completed"
    },
    "tags": []
   },
   "outputs": [
    {
     "name": "stdout",
     "output_type": "stream",
     "text": [
      "Running on TPU  grpc://10.0.0.2:8470\n",
      "REPLICAS:  8\n"
     ]
    }
   ],
   "source": [
    "# Detect hardware, return appropriate distribution strategy\n",
    "try:\n",
    "    # TPU detection. No parameters necessary if TPU_NAME environment variable is\n",
    "    # set: this is always the case on Kaggle.\n",
    "    tpu = tf.distribute.cluster_resolver.TPUClusterResolver()\n",
    "    print('Running on TPU ', tpu.master())\n",
    "except ValueError:\n",
    "    tpu = None\n",
    "\n",
    "if tpu:\n",
    "    tf.config.experimental_connect_to_cluster(tpu)\n",
    "    tf.tpu.experimental.initialize_tpu_system(tpu)\n",
    "    strategy = tf.distribute.experimental.TPUStrategy(tpu)\n",
    "else:\n",
    "    # Default distribution strategy in Tensorflow. Works on CPU and single GPU.\n",
    "    strategy = tf.distribute.get_strategy()\n",
    "\n",
    "print(\"REPLICAS: \", strategy.num_replicas_in_sync)"
   ]
  },
  {
   "cell_type": "markdown",
   "metadata": {
    "papermill": {
     "duration": 0.026578,
     "end_time": "2020-12-30T14:06:58.180838",
     "exception": false,
     "start_time": "2020-12-30T14:06:58.154260",
     "status": "completed"
    },
    "tags": []
   },
   "source": [
    "## Reading the Dataset"
   ]
  },
  {
   "cell_type": "code",
   "execution_count": 4,
   "metadata": {
    "execution": {
     "iopub.execute_input": "2020-12-30T14:06:58.250070Z",
     "iopub.status.busy": "2020-12-30T14:06:58.249368Z",
     "iopub.status.idle": "2020-12-30T14:06:58.561400Z",
     "shell.execute_reply": "2020-12-30T14:06:58.562057Z"
    },
    "papermill": {
     "duration": 0.353823,
     "end_time": "2020-12-30T14:06:58.562227",
     "exception": false,
     "start_time": "2020-12-30T14:06:58.208404",
     "status": "completed"
    },
    "tags": []
   },
   "outputs": [],
   "source": [
    "# Both train datasets contains English Comment Text\n",
    "train = pd.read_csv(\"../input/sentiment/Train.csv\")\n",
    "valid = train.sample(frac=0.3,random_state=200)\n",
    "\n",
    "train=train.drop(valid.index)\n",
    "\n",
    "test = pd.read_csv(\"../input/sentiment/Test.csv\")\n",
    "\n",
    "# Validation dataset contains English + Multilingual Comment Text\n",
    "#valid = pd.read_csv('/kaggle/input/jigsaw-multilingual-toxic-comment-classification/validation.csv')\n",
    "# Test Dataset contains Multilingual Content  \n",
    "#test = pd.read_csv('/kaggle/input/jigsaw-multilingual-toxic-comment-classification/test.csv')\n",
    "# Sample Submission\n",
    "#sub = pd.read_csv('/kaggle/input/jigsaw-multilingual-toxic-comment-classification/sample_submission.csv') "
   ]
  },
  {
   "cell_type": "markdown",
   "metadata": {
    "papermill": {
     "duration": 0.027502,
     "end_time": "2020-12-30T14:06:58.618539",
     "exception": false,
     "start_time": "2020-12-30T14:06:58.591037",
     "status": "completed"
    },
    "tags": []
   },
   "source": [
    "## XLM-Roberta Model"
   ]
  },
  {
   "cell_type": "markdown",
   "metadata": {
    "papermill": {
     "duration": 0.026463,
     "end_time": "2020-12-30T14:06:58.671863",
     "exception": false,
     "start_time": "2020-12-30T14:06:58.645400",
     "status": "completed"
    },
    "tags": []
   },
   "source": [
    "We will be using XLM-Roberta Pretrained Bert model as it performs best on Multilingual Dataset"
   ]
  },
  {
   "cell_type": "markdown",
   "metadata": {
    "papermill": {
     "duration": 0.026999,
     "end_time": "2020-12-30T14:06:58.725850",
     "exception": false,
     "start_time": "2020-12-30T14:06:58.698851",
     "status": "completed"
    },
    "tags": []
   },
   "source": [
    "### Initializing Tokeinzer"
   ]
  },
  {
   "cell_type": "code",
   "execution_count": 5,
   "metadata": {
    "execution": {
     "iopub.execute_input": "2020-12-30T14:06:58.783617Z",
     "iopub.status.busy": "2020-12-30T14:06:58.783004Z",
     "iopub.status.idle": "2020-12-30T14:07:03.829107Z",
     "shell.execute_reply": "2020-12-30T14:07:03.829647Z"
    },
    "papermill": {
     "duration": 5.076848,
     "end_time": "2020-12-30T14:07:03.829805",
     "exception": false,
     "start_time": "2020-12-30T14:06:58.752957",
     "status": "completed"
    },
    "tags": []
   },
   "outputs": [
    {
     "data": {
      "application/vnd.jupyter.widget-view+json": {
       "model_id": "c724f83d35f04be9a3e3f2731a705396",
       "version_major": 2,
       "version_minor": 0
      },
      "text/plain": [
       "HBox(children=(FloatProgress(value=0.0, description='Downloading', max=513.0, style=ProgressStyle(description_…"
      ]
     },
     "metadata": {},
     "output_type": "display_data"
    },
    {
     "name": "stdout",
     "output_type": "stream",
     "text": [
      "\n"
     ]
    },
    {
     "data": {
      "application/vnd.jupyter.widget-view+json": {
       "model_id": "2a8d1183323d491892daa45e7d75f24c",
       "version_major": 2,
       "version_minor": 0
      },
      "text/plain": [
       "HBox(children=(FloatProgress(value=0.0, description='Downloading', max=5069051.0, style=ProgressStyle(descript…"
      ]
     },
     "metadata": {},
     "output_type": "display_data"
    },
    {
     "name": "stdout",
     "output_type": "stream",
     "text": [
      "\n"
     ]
    }
   ],
   "source": [
    "tokenizer = AutoTokenizer.from_pretrained(\"jplu/tf-xlm-roberta-large\")"
   ]
  },
  {
   "cell_type": "markdown",
   "metadata": {
    "papermill": {
     "duration": 0.030001,
     "end_time": "2020-12-30T14:07:03.890877",
     "exception": false,
     "start_time": "2020-12-30T14:07:03.860876",
     "status": "completed"
    },
    "tags": []
   },
   "source": [
    "### Preparing function for tokenizing the text"
   ]
  },
  {
   "cell_type": "code",
   "execution_count": 6,
   "metadata": {
    "execution": {
     "iopub.execute_input": "2020-12-30T14:07:03.955148Z",
     "iopub.status.busy": "2020-12-30T14:07:03.954121Z",
     "iopub.status.idle": "2020-12-30T14:07:03.966794Z",
     "shell.execute_reply": "2020-12-30T14:07:03.967281Z"
    },
    "papermill": {
     "duration": 0.046185,
     "end_time": "2020-12-30T14:07:03.967429",
     "exception": false,
     "start_time": "2020-12-30T14:07:03.921244",
     "status": "completed"
    },
    "tags": []
   },
   "outputs": [],
   "source": [
    "MAX_LEN = 192\n",
    "def preprocess(data, max_seq_length = MAX_LEN, tokenizer = tokenizer):    \n",
    "    ids = []\n",
    "    masks = []\n",
    "    segment = []\n",
    "    for i in tqdm(range(len(data))):\n",
    "        \n",
    "        tokens = tokenizer.tokenize(data[i])\n",
    "        if len(tokens) > max_seq_length - 2:\n",
    "            tokens = tokens[ : max_seq_length - 2]\n",
    "\n",
    "        # Converting tokens to ids\n",
    "        input_ids = tokenizer.convert_tokens_to_ids([\"[CLS]\"] + tokens + [\"[SEP]\"])\n",
    "        # Added [CLS] and [SEP] as required to BERT Model\n",
    "\n",
    "        # Input mask\n",
    "        input_masks = [1] * len(input_ids)\n",
    "\n",
    "        # padding upto max length\n",
    "        padding = max_seq_length - len(input_ids)\n",
    "        input_ids.extend([0] * padding)\n",
    "        input_masks.extend([0] * padding)\n",
    "        segment_ids =[0]* max_seq_length\n",
    "        \n",
    "        \n",
    "        ids.append(input_ids)\n",
    "        masks.append(input_masks)\n",
    "        segment.append(segment_ids)\n",
    "    \n",
    "    return (np.array(ids), np.array(masks), np.array(segment))"
   ]
  },
  {
   "cell_type": "markdown",
   "metadata": {
    "papermill": {
     "duration": 0.029139,
     "end_time": "2020-12-30T14:07:04.025918",
     "exception": false,
     "start_time": "2020-12-30T14:07:03.996779",
     "status": "completed"
    },
    "tags": []
   },
   "source": [
    "### Getting Train and Test Data ready for Model Input"
   ]
  },
  {
   "cell_type": "code",
   "execution_count": 7,
   "metadata": {
    "execution": {
     "iopub.execute_input": "2020-12-30T14:07:04.090798Z",
     "iopub.status.busy": "2020-12-30T14:07:04.089743Z",
     "iopub.status.idle": "2020-12-30T14:07:14.445433Z",
     "shell.execute_reply": "2020-12-30T14:07:14.446554Z"
    },
    "papermill": {
     "duration": 10.391101,
     "end_time": "2020-12-30T14:07:14.446768",
     "exception": false,
     "start_time": "2020-12-30T14:07:04.055667",
     "status": "completed"
    },
    "tags": []
   },
   "outputs": [
    {
     "data": {
      "application/vnd.jupyter.widget-view+json": {
       "model_id": "a7d62834eec74c66bdd27a83a1eede3b",
       "version_major": 2,
       "version_minor": 0
      },
      "text/plain": [
       "HBox(children=(FloatProgress(value=0.0, max=41586.0), HTML(value='')))"
      ]
     },
     "metadata": {},
     "output_type": "display_data"
    },
    {
     "name": "stdout",
     "output_type": "stream",
     "text": [
      "\n"
     ]
    }
   ],
   "source": [
    "train['content'] = train['content'].astype(str)\n",
    "train_ids, train_masks, train_segment =  preprocess(train[\"content\"].values)"
   ]
  },
  {
   "cell_type": "code",
   "execution_count": 8,
   "metadata": {
    "execution": {
     "iopub.execute_input": "2020-12-30T14:07:14.539129Z",
     "iopub.status.busy": "2020-12-30T14:07:14.537877Z",
     "iopub.status.idle": "2020-12-30T14:07:19.117091Z",
     "shell.execute_reply": "2020-12-30T14:07:19.114582Z"
    },
    "papermill": {
     "duration": 4.639526,
     "end_time": "2020-12-30T14:07:19.117219",
     "exception": false,
     "start_time": "2020-12-30T14:07:14.477693",
     "status": "completed"
    },
    "tags": []
   },
   "outputs": [
    {
     "data": {
      "application/vnd.jupyter.widget-view+json": {
       "model_id": "9a765f5e4aa04c4cac1584459e36d5f6",
       "version_major": 2,
       "version_minor": 0
      },
      "text/plain": [
       "HBox(children=(FloatProgress(value=0.0, max=19803.0), HTML(value='')))"
      ]
     },
     "metadata": {},
     "output_type": "display_data"
    },
    {
     "name": "stdout",
     "output_type": "stream",
     "text": [
      "\n"
     ]
    }
   ],
   "source": [
    "test['content'] = test['content'].astype(str)\n",
    "test_ids, test_masks, test_segment =  preprocess(test[\"content\"].values)"
   ]
  },
  {
   "cell_type": "markdown",
   "metadata": {
    "papermill": {
     "duration": 0.030364,
     "end_time": "2020-12-30T14:07:19.178455",
     "exception": false,
     "start_time": "2020-12-30T14:07:19.148091",
     "status": "completed"
    },
    "tags": []
   },
   "source": [
    "### Getting Labels into one variable"
   ]
  },
  {
   "cell_type": "code",
   "execution_count": 9,
   "metadata": {
    "execution": {
     "iopub.execute_input": "2020-12-30T14:07:19.247037Z",
     "iopub.status.busy": "2020-12-30T14:07:19.246087Z",
     "iopub.status.idle": "2020-12-30T14:07:19.250500Z",
     "shell.execute_reply": "2020-12-30T14:07:19.249871Z"
    },
    "papermill": {
     "duration": 0.041086,
     "end_time": "2020-12-30T14:07:19.250608",
     "exception": false,
     "start_time": "2020-12-30T14:07:19.209522",
     "status": "completed"
    },
    "tags": []
   },
   "outputs": [
    {
     "data": {
      "text/plain": [
       "array([ 0,  1, -1, ...,  1,  1, -1])"
      ]
     },
     "execution_count": 9,
     "metadata": {},
     "output_type": "execute_result"
    }
   ],
   "source": [
    "y_train = train['score'].values\n",
    "y_train"
   ]
  },
  {
   "cell_type": "markdown",
   "metadata": {
    "papermill": {
     "duration": 0.030952,
     "end_time": "2020-12-30T14:07:19.312692",
     "exception": false,
     "start_time": "2020-12-30T14:07:19.281740",
     "status": "completed"
    },
    "tags": []
   },
   "source": [
    "### Initializing the Batch Size"
   ]
  },
  {
   "cell_type": "code",
   "execution_count": 10,
   "metadata": {
    "execution": {
     "iopub.execute_input": "2020-12-30T14:07:19.380537Z",
     "iopub.status.busy": "2020-12-30T14:07:19.379689Z",
     "iopub.status.idle": "2020-12-30T14:07:19.382664Z",
     "shell.execute_reply": "2020-12-30T14:07:19.382062Z"
    },
    "papermill": {
     "duration": 0.03879,
     "end_time": "2020-12-30T14:07:19.382789",
     "exception": false,
     "start_time": "2020-12-30T14:07:19.343999",
     "status": "completed"
    },
    "tags": []
   },
   "outputs": [],
   "source": [
    "BATCH_SIZE = 12 * strategy.num_replicas_in_sync"
   ]
  },
  {
   "cell_type": "markdown",
   "metadata": {
    "papermill": {
     "duration": 0.030884,
     "end_time": "2020-12-30T14:07:19.445386",
     "exception": false,
     "start_time": "2020-12-30T14:07:19.414502",
     "status": "completed"
    },
    "tags": []
   },
   "source": [
    "## Defining the Model"
   ]
  },
  {
   "cell_type": "code",
   "execution_count": 11,
   "metadata": {
    "execution": {
     "iopub.execute_input": "2020-12-30T14:07:19.524408Z",
     "iopub.status.busy": "2020-12-30T14:07:19.523531Z",
     "iopub.status.idle": "2020-12-30T14:07:19.526002Z",
     "shell.execute_reply": "2020-12-30T14:07:19.526509Z"
    },
    "papermill": {
     "duration": 0.048834,
     "end_time": "2020-12-30T14:07:19.526644",
     "exception": false,
     "start_time": "2020-12-30T14:07:19.477810",
     "status": "completed"
    },
    "tags": []
   },
   "outputs": [],
   "source": [
    "def model(roberta_layer, max_len = MAX_LEN):\n",
    "    input_word_ids = tf.keras.layers.Input(shape=(max_len,), dtype=tf.int32, name=\"input_word_ids\")\n",
    "    input_mask = tf.keras.layers.Input(shape=(max_len,), dtype=tf.int32, name=\"input_mask\")\n",
    "    segment_ids = tf.keras.layers.Input(shape=(max_len,), dtype=tf.int32, name=\"segment_ids\")\n",
    "    pooled_output, sequence_output = roberta_layer([input_word_ids, input_mask, segment_ids])\n",
    "\n",
    "    # There are two outputs: a pooled_output of shape [batch_size, 768] with representations for \n",
    "    # the entire input sequences and a sequence_output of shape [batch_size, max_seq_length, 768] \n",
    "    # with representations for each input token (in context)\n",
    "\n",
    "\n",
    "    x = pooled_output\n",
    "    x = tf.keras.layers.Flatten()(x)\n",
    "    x = tf.keras.layers.Dense(120, activation = 'relu')(x)\n",
    "    x = tf.keras.layers.Dropout(0.5)(x)\n",
    "    x = tf.keras.layers.Dense(64, activation = 'relu')(x)\n",
    "    x = tf.keras.layers.Dropout(0.4)(x)\n",
    "    x = tf.keras.layers.Dense(32, activation = 'relu')(x)\n",
    "    x = tf.keras.layers.Dropout(0.3)(x)\n",
    "    x = tf.keras.layers.Dense(1, activation = 'sigmoid')(x)\n",
    "    \n",
    "    model = tf.keras.Model(inputs = [input_word_ids, input_mask, segment_ids], outputs = x)\n",
    "    \n",
    "    return model"
   ]
  },
  {
   "cell_type": "markdown",
   "metadata": {
    "papermill": {
     "duration": 0.031511,
     "end_time": "2020-12-30T14:07:19.591054",
     "exception": false,
     "start_time": "2020-12-30T14:07:19.559543",
     "status": "completed"
    },
    "tags": []
   },
   "source": [
    "## Initializing the Model"
   ]
  },
  {
   "cell_type": "code",
   "execution_count": 12,
   "metadata": {
    "execution": {
     "iopub.execute_input": "2020-12-30T14:07:19.663243Z",
     "iopub.status.busy": "2020-12-30T14:07:19.661535Z",
     "iopub.status.idle": "2020-12-30T14:09:50.277962Z",
     "shell.execute_reply": "2020-12-30T14:09:50.278527Z"
    },
    "papermill": {
     "duration": 150.656133,
     "end_time": "2020-12-30T14:09:50.278731",
     "exception": false,
     "start_time": "2020-12-30T14:07:19.622598",
     "status": "completed"
    },
    "tags": []
   },
   "outputs": [
    {
     "data": {
      "application/vnd.jupyter.widget-view+json": {
       "model_id": "88ea2df30a2047ccb5b43ddd4c41044b",
       "version_major": 2,
       "version_minor": 0
      },
      "text/plain": [
       "HBox(children=(FloatProgress(value=0.0, description='Downloading', max=3271420488.0, style=ProgressStyle(descr…"
      ]
     },
     "metadata": {},
     "output_type": "display_data"
    },
    {
     "name": "stdout",
     "output_type": "stream",
     "text": [
      "\n",
      "Model: \"model\"\n",
      "__________________________________________________________________________________________________\n",
      "Layer (type)                    Output Shape         Param #     Connected to                     \n",
      "==================================================================================================\n",
      "input_word_ids (InputLayer)     [(None, 192)]        0                                            \n",
      "__________________________________________________________________________________________________\n",
      "input_mask (InputLayer)         [(None, 192)]        0                                            \n",
      "__________________________________________________________________________________________________\n",
      "segment_ids (InputLayer)        [(None, 192)]        0                                            \n",
      "__________________________________________________________________________________________________\n",
      "tf_roberta_model (TFRobertaMode ((None, 192, 1024),  559890432   input_word_ids[0][0]             \n",
      "                                                                 input_mask[0][0]                 \n",
      "                                                                 segment_ids[0][0]                \n",
      "__________________________________________________________________________________________________\n",
      "flatten (Flatten)               (None, 196608)       0           tf_roberta_model[0][0]           \n",
      "__________________________________________________________________________________________________\n",
      "dense (Dense)                   (None, 120)          23593080    flatten[0][0]                    \n",
      "__________________________________________________________________________________________________\n",
      "dropout_74 (Dropout)            (None, 120)          0           dense[0][0]                      \n",
      "__________________________________________________________________________________________________\n",
      "dense_1 (Dense)                 (None, 64)           7744        dropout_74[0][0]                 \n",
      "__________________________________________________________________________________________________\n",
      "dropout_75 (Dropout)            (None, 64)           0           dense_1[0][0]                    \n",
      "__________________________________________________________________________________________________\n",
      "dense_2 (Dense)                 (None, 32)           2080        dropout_75[0][0]                 \n",
      "__________________________________________________________________________________________________\n",
      "dropout_76 (Dropout)            (None, 32)           0           dense_2[0][0]                    \n",
      "__________________________________________________________________________________________________\n",
      "dense_3 (Dense)                 (None, 1)            33          dropout_76[0][0]                 \n",
      "==================================================================================================\n",
      "Total params: 583,493,369\n",
      "Trainable params: 23,602,937\n",
      "Non-trainable params: 559,890,432\n",
      "__________________________________________________________________________________________________\n"
     ]
    }
   ],
   "source": [
    "with strategy.scope():\n",
    "    roberta_layer = TFAutoModel.from_pretrained(\"jplu/tf-xlm-roberta-large\", trainable = False)\n",
    "    model = model(roberta_layer)\n",
    "    model.compile(tf.keras.optimizers.Adam(lr=1e-5), loss=\"binary_crossentropy\", metrics=[\"accuracy\"])\n",
    "model.summary()"
   ]
  },
  {
   "cell_type": "markdown",
   "metadata": {
    "papermill": {
     "duration": 0.032072,
     "end_time": "2020-12-30T14:09:50.343224",
     "exception": false,
     "start_time": "2020-12-30T14:09:50.311152",
     "status": "completed"
    },
    "tags": []
   },
   "source": [
    "## Initializing the StratifiedKFold object"
   ]
  },
  {
   "cell_type": "code",
   "execution_count": 13,
   "metadata": {
    "execution": {
     "iopub.execute_input": "2020-12-30T14:09:50.415329Z",
     "iopub.status.busy": "2020-12-30T14:09:50.414377Z",
     "iopub.status.idle": "2020-12-30T14:09:50.418427Z",
     "shell.execute_reply": "2020-12-30T14:09:50.418951Z"
    },
    "papermill": {
     "duration": 0.043588,
     "end_time": "2020-12-30T14:09:50.419092",
     "exception": false,
     "start_time": "2020-12-30T14:09:50.375504",
     "status": "completed"
    },
    "tags": []
   },
   "outputs": [
    {
     "data": {
      "text/plain": [
       "StratifiedKFold(n_splits=4, random_state=None, shuffle=True)"
      ]
     },
     "execution_count": 13,
     "metadata": {},
     "output_type": "execute_result"
    }
   ],
   "source": [
    "skf = StratifiedKFold(n_splits = 4, shuffle = True)\n",
    "skf.get_n_splits(train_ids, y_train)\n",
    "skf"
   ]
  },
  {
   "cell_type": "markdown",
   "metadata": {
    "papermill": {
     "duration": 0.032777,
     "end_time": "2020-12-30T14:09:50.485058",
     "exception": false,
     "start_time": "2020-12-30T14:09:50.452281",
     "status": "completed"
    },
    "tags": []
   },
   "source": [
    "## Training the Model"
   ]
  },
  {
   "cell_type": "code",
   "execution_count": 14,
   "metadata": {
    "execution": {
     "iopub.execute_input": "2020-12-30T14:09:50.563550Z",
     "iopub.status.busy": "2020-12-30T14:09:50.562777Z",
     "iopub.status.idle": "2020-12-30T14:45:10.015853Z",
     "shell.execute_reply": "2020-12-30T14:45:10.015107Z"
    },
    "papermill": {
     "duration": 2119.497943,
     "end_time": "2020-12-30T14:45:10.016065",
     "exception": false,
     "start_time": "2020-12-30T14:09:50.518122",
     "status": "completed"
    },
    "tags": []
   },
   "outputs": [
    {
     "name": "stdout",
     "output_type": "stream",
     "text": [
      "\n",
      "\n",
      "####################\n",
      "FOLD No 1\n",
      "####################\n",
      "Epoch 1/10\n",
      "324/324 [==============================] - 94s 291ms/step - accuracy: 0.2802 - loss: 0.6474 - val_accuracy: 0.1490 - val_loss: 0.5259\n",
      "Epoch 2/10\n",
      "324/324 [==============================] - 46s 143ms/step - accuracy: 0.3041 - loss: 0.5095 - val_accuracy: 0.1741 - val_loss: 0.4428\n",
      "Epoch 3/10\n",
      "324/324 [==============================] - 46s 143ms/step - accuracy: 0.3356 - loss: 0.4487 - val_accuracy: 0.2850 - val_loss: 0.3423\n",
      "Epoch 4/10\n",
      "324/324 [==============================] - 46s 141ms/step - accuracy: 0.3422 - loss: 0.3432 - val_accuracy: 0.4122 - val_loss: 0.2521\n",
      "Epoch 5/10\n",
      "324/324 [==============================] - 46s 143ms/step - accuracy: 0.3581 - loss: 0.2653 - val_accuracy: 0.3113 - val_loss: 0.1802\n",
      "Epoch 6/10\n",
      "324/324 [==============================] - 46s 143ms/step - accuracy: 0.3668 - loss: 0.1163 - val_accuracy: 0.3951 - val_loss: 0.0479\n",
      "Epoch 7/10\n",
      "324/324 [==============================] - 46s 143ms/step - accuracy: 0.3682 - loss: -0.0134 - val_accuracy: 0.3813 - val_loss: -0.0651\n",
      "Epoch 8/10\n",
      "324/324 [==============================] - 47s 144ms/step - accuracy: 0.3700 - loss: -0.1253 - val_accuracy: 0.4888 - val_loss: -0.2385\n",
      "Epoch 9/10\n",
      "324/324 [==============================] - 46s 143ms/step - accuracy: 0.3854 - loss: -0.2944 - val_accuracy: 0.4501 - val_loss: -0.4072\n",
      "Epoch 10/10\n",
      "324/324 [==============================] - 46s 143ms/step - accuracy: 0.3823 - loss: -0.5087 - val_accuracy: 0.4790 - val_loss: -0.5806\n",
      "\n",
      "\n",
      "####################\n",
      "FOLD No 2\n",
      "####################\n",
      "Epoch 1/10\n",
      "324/324 [==============================] - 46s 142ms/step - accuracy: 0.3821 - loss: -0.7657 - val_accuracy: 0.4788 - val_loss: -0.7265\n",
      "Epoch 2/10\n",
      "324/324 [==============================] - 47s 144ms/step - accuracy: 0.3858 - loss: -1.0234 - val_accuracy: 0.4435 - val_loss: -0.8906\n",
      "Epoch 3/10\n",
      "324/324 [==============================] - 46s 143ms/step - accuracy: 0.3943 - loss: -1.3193 - val_accuracy: 0.4603 - val_loss: -1.1694\n",
      "Epoch 4/10\n",
      "324/324 [==============================] - 46s 143ms/step - accuracy: 0.3907 - loss: -1.5747 - val_accuracy: 0.4659 - val_loss: -1.4457\n",
      "Epoch 5/10\n",
      "324/324 [==============================] - 47s 144ms/step - accuracy: 0.3990 - loss: -2.1422 - val_accuracy: 0.4762 - val_loss: -1.7442\n",
      "Epoch 6/10\n",
      "324/324 [==============================] - 46s 143ms/step - accuracy: 0.3954 - loss: -2.5580 - val_accuracy: 0.5118 - val_loss: -2.1126\n",
      "Epoch 7/10\n",
      "324/324 [==============================] - 47s 144ms/step - accuracy: 0.3890 - loss: -3.0444 - val_accuracy: 0.4771 - val_loss: -2.4185\n",
      "Epoch 8/10\n",
      "324/324 [==============================] - 46s 143ms/step - accuracy: 0.3977 - loss: -3.3189 - val_accuracy: 0.4702 - val_loss: -2.8086\n",
      "Epoch 9/10\n",
      "324/324 [==============================] - 46s 143ms/step - accuracy: 0.3963 - loss: -4.4552 - val_accuracy: 0.4993 - val_loss: -3.3453\n",
      "Epoch 10/10\n",
      "324/324 [==============================] - 46s 142ms/step - accuracy: 0.3901 - loss: -4.9292 - val_accuracy: 0.4966 - val_loss: -3.8719\n",
      "\n",
      "\n",
      "####################\n",
      "FOLD No 3\n",
      "####################\n",
      "Epoch 1/10\n",
      "324/324 [==============================] - 46s 142ms/step - accuracy: 0.3946 - loss: -4.8616 - val_accuracy: 0.4786 - val_loss: -5.7395\n",
      "Epoch 2/10\n",
      "324/324 [==============================] - 46s 142ms/step - accuracy: 0.3851 - loss: -5.5414 - val_accuracy: 0.5231 - val_loss: -6.5594\n",
      "Epoch 3/10\n",
      "324/324 [==============================] - 46s 142ms/step - accuracy: 0.3947 - loss: -6.3978 - val_accuracy: 0.4983 - val_loss: -7.3048\n",
      "Epoch 4/10\n",
      "324/324 [==============================] - 46s 142ms/step - accuracy: 0.3930 - loss: -7.2319 - val_accuracy: 0.5011 - val_loss: -8.1528\n",
      "Epoch 5/10\n",
      "324/324 [==============================] - 46s 143ms/step - accuracy: 0.3951 - loss: -7.9293 - val_accuracy: 0.5106 - val_loss: -9.1663\n",
      "Epoch 6/10\n",
      "324/324 [==============================] - 46s 141ms/step - accuracy: 0.3929 - loss: -9.1581 - val_accuracy: 0.4749 - val_loss: -10.0801\n",
      "Epoch 7/10\n",
      "324/324 [==============================] - 46s 142ms/step - accuracy: 0.3972 - loss: -10.0522 - val_accuracy: 0.5096 - val_loss: -11.4173\n",
      "Epoch 8/10\n",
      "324/324 [==============================] - 47s 144ms/step - accuracy: 0.3970 - loss: -11.2720 - val_accuracy: 0.5086 - val_loss: -12.5919\n",
      "Epoch 9/10\n",
      "324/324 [==============================] - 46s 143ms/step - accuracy: 0.4004 - loss: -12.3997 - val_accuracy: 0.5242 - val_loss: -13.9444\n",
      "Epoch 10/10\n",
      "324/324 [==============================] - 46s 142ms/step - accuracy: 0.3999 - loss: -14.6534 - val_accuracy: 0.4721 - val_loss: -15.1405\n",
      "\n",
      "\n",
      "####################\n",
      "FOLD No 4\n",
      "####################\n",
      "Epoch 1/10\n",
      "324/324 [==============================] - 46s 142ms/step - accuracy: 0.3955 - loss: -15.7373 - val_accuracy: 0.4961 - val_loss: -15.4972\n",
      "Epoch 2/10\n",
      "324/324 [==============================] - 46s 143ms/step - accuracy: 0.3953 - loss: -17.6060 - val_accuracy: 0.5072 - val_loss: -17.2823\n",
      "Epoch 3/10\n",
      "324/324 [==============================] - 46s 142ms/step - accuracy: 0.4070 - loss: -19.2122 - val_accuracy: 0.5105 - val_loss: -18.9868\n",
      "Epoch 4/10\n",
      "324/324 [==============================] - 46s 142ms/step - accuracy: 0.4062 - loss: -21.0535 - val_accuracy: 0.5095 - val_loss: -20.7789\n",
      "Epoch 5/10\n",
      "324/324 [==============================] - 46s 142ms/step - accuracy: 0.4059 - loss: -23.5167 - val_accuracy: 0.4811 - val_loss: -22.4208\n",
      "Epoch 6/10\n",
      "324/324 [==============================] - 46s 143ms/step - accuracy: 0.4003 - loss: -25.8875 - val_accuracy: 0.4966 - val_loss: -24.8701\n",
      "Epoch 7/10\n",
      "324/324 [==============================] - 46s 142ms/step - accuracy: 0.3991 - loss: -28.0203 - val_accuracy: 0.5298 - val_loss: -27.2262\n",
      "Epoch 8/10\n",
      "324/324 [==============================] - 46s 142ms/step - accuracy: 0.3948 - loss: -31.3958 - val_accuracy: 0.5018 - val_loss: -29.5059\n",
      "Epoch 9/10\n",
      "324/324 [==============================] - 46s 143ms/step - accuracy: 0.3989 - loss: -34.5296 - val_accuracy: 0.5016 - val_loss: -32.3777\n",
      "Epoch 10/10\n",
      "324/324 [==============================] - 46s 143ms/step - accuracy: 0.3986 - loss: -36.3107 - val_accuracy: 0.5088 - val_loss: -35.0344\n"
     ]
    }
   ],
   "source": [
    "i = 1\n",
    "preds = []\n",
    "for train_index, test_index in skf.split(train_ids, y_train):\n",
    "    print(\"\\n\")\n",
    "    print(\"#\" * 20)\n",
    "    print(f\"FOLD No {i}\")\n",
    "    print(\"#\" * 20)\n",
    "    \n",
    "    \n",
    "    tr_ids = train_ids[train_index]\n",
    "    tr_masks = train_masks[train_index]\n",
    "    tr_segment = train_segment[train_index]\n",
    "    \n",
    "    vd_ids = train_ids[test_index]\n",
    "    vd_masks = train_masks[test_index]\n",
    "    vd_segment = train_segment[test_index]\n",
    "    \n",
    "    y_tr = y_train[train_index]\n",
    "    y_vd = y_train[test_index]\n",
    "    \n",
    "    \n",
    "    history = model.fit(\n",
    "    (tr_ids, tr_masks, tr_segment), y_tr,epochs=10,batch_size=BATCH_SIZE,validation_data = ((vd_ids, vd_masks, vd_segment), y_vd),\n",
    "    steps_per_epoch = len(tr_ids)//BATCH_SIZE)\n",
    "\n",
    "    predictions = model.predict((test_ids, test_masks, test_segment))\n",
    "    preds.append(predictions)\n",
    "    \n",
    "    i += 1\n",
    "    K.clear_session()\n"
   ]
  },
  {
   "cell_type": "markdown",
   "metadata": {
    "papermill": {
     "duration": 4.385595,
     "end_time": "2020-12-30T14:45:18.729247",
     "exception": false,
     "start_time": "2020-12-30T14:45:14.343652",
     "status": "completed"
    },
    "tags": []
   },
   "source": [
    "## Predicting on Test Set"
   ]
  },
  {
   "cell_type": "code",
   "execution_count": 15,
   "metadata": {
    "execution": {
     "iopub.execute_input": "2020-12-30T14:45:27.519398Z",
     "iopub.status.busy": "2020-12-30T14:45:27.518561Z",
     "iopub.status.idle": "2020-12-30T14:45:27.848718Z",
     "shell.execute_reply": "2020-12-30T14:45:27.848155Z"
    },
    "papermill": {
     "duration": 4.762258,
     "end_time": "2020-12-30T14:45:27.848848",
     "exception": false,
     "start_time": "2020-12-30T14:45:23.086590",
     "status": "completed"
    },
    "tags": []
   },
   "outputs": [],
   "source": [
    "#predictions =  0.25*preds[0] + 0.25*preds[1] + 0.25*preds[2] + 0.25*preds[3]\n",
    "\n",
    "test[\"predictions\"] = predictions\n",
    "#test.set_index(\"id\", inplace = True)\n",
    "test.to_csv(\"submission_1.csv\")"
   ]
  },
  {
   "attachments": {
    "image.png": {
     "image/png": "[encoded data removed]"
    }
   },
   "cell_type": "markdown",
   "metadata": {
    "papermill": {
     "duration": 4.475874,
     "end_time": "2020-12-30T14:45:36.719546",
     "exception": false,
     "start_time": "2020-12-30T14:45:32.243672",
     "status": "completed"
    },
    "tags": []
   },
   "source": [
    "if you encounter this error :\n",
    "\n",
    "![image.png](attachment:image.png)  \n",
    "\n",
    "\n",
    "try one of these solutions https://stackoverflow.com/questions/59394947/how-to-fix-resourceexhaustederror-oom-when-allocating-tensor"
   ]
  }
 ],
 "metadata": {
  "kernelspec": {
   "display_name": "Python 3",
   "language": "python",
   "name": "python3"
  },
  "language_info": {
   "codemirror_mode": {
    "name": "ipython",
    "version": 3
   },
   "file_extension": ".py",
   "mimetype": "text/x-python",
   "name": "python",
   "nbconvert_exporter": "python",
   "pygments_lexer": "ipython3",
   "version": "3.7.6"
  },
  "papermill": {
   "duration": 2343.076928,
   "end_time": "2020-12-30T14:45:42.161575",
   "environment_variables": {},
   "exception": null,
   "input_path": "__notebook__.ipynb",
   "output_path": "__notebook__.ipynb",
   "parameters": {},
   "start_time": "2020-12-30T14:06:39.084647",
   "version": "2.1.0"
  },
  "widgets": {
   "application/vnd.jupyter.widget-state+json": {
    "state": {
     "08df3b6dbdbb490985c33e05fd5eb256": {
      "model_module": "@jupyter-widgets/controls",
      "model_module_version": "1.5.0",
      "model_name": "ProgressStyleModel",
      "state": {
       "_model_module": "@jupyter-widgets/controls",
       "_model_module_version": "1.5.0",
       "_model_name": "ProgressStyleModel",
       "_view_count": null,
       "_view_module": "@jupyter-widgets/base",
       "_view_module_version": "1.2.0",
       "_view_name": "StyleView",
       "bar_color": null,
       "description_width": "initial"
      }
     },
     "09757961d009469590646c7c35861289": {
      "model_module": "@jupyter-widgets/controls",
      "model_module_version": "1.5.0",
      "model_name": "HTMLModel",
      "state": {
       "_dom_classes": [],
       "_model_module": "@jupyter-widgets/controls",
       "_model_module_version": "1.5.0",
       "_model_name": "HTMLModel",
       "_view_count": null,
       "_view_module": "@jupyter-widgets/controls",
       "_view_module_version": "1.5.0",
       "_view_name": "HTMLView",
       "description": "",
       "description_tooltip": null,
       "layout": "IPY_MODEL_cbc4e3eadae74f1ca41ee4ebf3327dae",
       "placeholder": "​",
       "style": "IPY_MODEL_27a80de1c8f84211b53e8cd69971cff7",
       "value": " 5.07M/5.07M [00:03&lt;00:00, 1.65MB/s]"
      }
     },
     "13de14d1935e41738aaf3b850cca4ad6": {
      "model_module": "@jupyter-widgets/base",
      "model_module_version": "1.2.0",
      "model_name": "LayoutModel",
      "state": {
       "_model_module": "@jupyter-widgets/base",
       "_model_module_version": "1.2.0",
       "_model_name": "LayoutModel",
       "_view_count": null,
       "_view_module": "@jupyter-widgets/base",
       "_view_module_version": "1.2.0",
       "_view_name": "LayoutView",
       "align_content": null,
       "align_items": null,
       "align_self": null,
       "border": null,
       "bottom": null,
       "display": null,
       "flex": null,
       "flex_flow": null,
       "grid_area": null,
       "grid_auto_columns": null,
       "grid_auto_flow": null,
       "grid_auto_rows": null,
       "grid_column": null,
       "grid_gap": null,
       "grid_row": null,
       "grid_template_areas": null,
       "grid_template_columns": null,
       "grid_template_rows": null,
       "height": null,
       "justify_content": null,
       "justify_items": null,
       "left": null,
       "margin": null,
       "max_height": null,
       "max_width": null,
       "min_height": null,
       "min_width": null,
       "object_fit": null,
       "object_position": null,
       "order": null,
       "overflow": null,
       "overflow_x": null,
       "overflow_y": null,
       "padding": null,
       "right": null,
       "top": null,
       "visibility": null,
       "width": null
      }
     },
     "27a80de1c8f84211b53e8cd69971cff7": {
      "model_module": "@jupyter-widgets/controls",
      "model_module_version": "1.5.0",
      "model_name": "DescriptionStyleModel",
      "state": {
       "_model_module": "@jupyter-widgets/controls",
       "_model_module_version": "1.5.0",
       "_model_name": "DescriptionStyleModel",
       "_view_count": null,
       "_view_module": "@jupyter-widgets/base",
       "_view_module_version": "1.2.0",
       "_view_name": "StyleView",
       "description_width": ""
      }
     },
     "293412f352784c3d88e540e13af0a9ad": {
      "model_module": "@jupyter-widgets/base",
      "model_module_version": "1.2.0",
      "model_name": "LayoutModel",
      "state": {
       "_model_module": "@jupyter-widgets/base",
       "_model_module_version": "1.2.0",
       "_model_name": "LayoutModel",
       "_view_count": null,
       "_view_module": "@jupyter-widgets/base",
       "_view_module_version": "1.2.0",
       "_view_name": "LayoutView",
       "align_content": null,
       "align_items": null,
       "align_self": null,
       "border": null,
       "bottom": null,
       "display": null,
       "flex": null,
       "flex_flow": null,
       "grid_area": null,
       "grid_auto_columns": null,
       "grid_auto_flow": null,
       "grid_auto_rows": null,
       "grid_column": null,
       "grid_gap": null,
       "grid_row": null,
       "grid_template_areas": null,
       "grid_template_columns": null,
       "grid_template_rows": null,
       "height": null,
       "justify_content": null,
       "justify_items": null,
       "left": null,
       "margin": null,
       "max_height": null,
       "max_width": null,
       "min_height": null,
       "min_width": null,
       "object_fit": null,
       "object_position": null,
       "order": null,
       "overflow": null,
       "overflow_x": null,
       "overflow_y": null,
       "padding": null,
       "right": null,
       "top": null,
       "visibility": null,
       "width": null
      }
     },
     "2a8d1183323d491892daa45e7d75f24c": {
      "model_module": "@jupyter-widgets/controls",
      "model_module_version": "1.5.0",
      "model_name": "HBoxModel",
      "state": {
       "_dom_classes": [],
       "_model_module": "@jupyter-widgets/controls",
       "_model_module_version": "1.5.0",
       "_model_name": "HBoxModel",
       "_view_count": null,
       "_view_module": "@jupyter-widgets/controls",
       "_view_module_version": "1.5.0",
       "_view_name": "HBoxView",
       "box_style": "",
       "children": [
        "IPY_MODEL_d37881a77908459388993b6e6764d04f",
        "IPY_MODEL_09757961d009469590646c7c35861289"
       ],
       "layout": "IPY_MODEL_f53a9b5781884fabbc1a82da7780cbf6"
      }
     },
     "2fcb4620aee54517be8cd10ce590fa79": {
      "model_module": "@jupyter-widgets/base",
      "model_module_version": "1.2.0",
      "model_name": "LayoutModel",
      "state": {
       "_model_module": "@jupyter-widgets/base",
       "_model_module_version": "1.2.0",
       "_model_name": "LayoutModel",
       "_view_count": null,
       "_view_module": "@jupyter-widgets/base",
       "_view_module_version": "1.2.0",
       "_view_name": "LayoutView",
       "align_content": null,
       "align_items": null,
       "align_self": null,
       "border": null,
       "bottom": null,
       "display": null,
       "flex": null,
       "flex_flow": null,
       "grid_area": null,
       "grid_auto_columns": null,
       "grid_auto_flow": null,
       "grid_auto_rows": null,
       "grid_column": null,
       "grid_gap": null,
       "grid_row": null,
       "grid_template_areas": null,
       "grid_template_columns": null,
       "grid_template_rows": null,
       "height": null,
       "justify_content": null,
       "justify_items": null,
       "left": null,
       "margin": null,
       "max_height": null,
       "max_width": null,
       "min_height": null,
       "min_width": null,
       "object_fit": null,
       "object_position": null,
       "order": null,
       "overflow": null,
       "overflow_x": null,
       "overflow_y": null,
       "padding": null,
       "right": null,
       "top": null,
       "visibility": null,
       "width": null
      }
     },
     "3c5fb5ce338640378a5947f5ba30b45f": {
      "model_module": "@jupyter-widgets/base",
      "model_module_version": "1.2.0",
      "model_name": "LayoutModel",
      "state": {
       "_model_module": "@jupyter-widgets/base",
       "_model_module_version": "1.2.0",
       "_model_name": "LayoutModel",
       "_view_count": null,
       "_view_module": "@jupyter-widgets/base",
       "_view_module_version": "1.2.0",
       "_view_name": "LayoutView",
       "align_content": null,
       "align_items": null,
       "align_self": null,
       "border": null,
       "bottom": null,
       "display": null,
       "flex": null,
       "flex_flow": null,
       "grid_area": null,
       "grid_auto_columns": null,
       "grid_auto_flow": null,
       "grid_auto_rows": null,
       "grid_column": null,
       "grid_gap": null,
       "grid_row": null,
       "grid_template_areas": null,
       "grid_template_columns": null,
       "grid_template_rows": null,
       "height": null,
       "justify_content": null,
       "justify_items": null,
       "left": null,
       "margin": null,
       "max_height": null,
       "max_width": null,
       "min_height": null,
       "min_width": null,
       "object_fit": null,
       "object_position": null,
       "order": null,
       "overflow": null,
       "overflow_x": null,
       "overflow_y": null,
       "padding": null,
       "right": null,
       "top": null,
       "visibility": null,
       "width": null
      }
     },
     "4cff9d39fc484927a81989954458315b": {
      "model_module": "@jupyter-widgets/controls",
      "model_module_version": "1.5.0",
      "model_name": "HTMLModel",
      "state": {
       "_dom_classes": [],
       "_model_module": "@jupyter-widgets/controls",
       "_model_module_version": "1.5.0",
       "_model_name": "HTMLModel",
       "_view_count": null,
       "_view_module": "@jupyter-widgets/controls",
       "_view_module_version": "1.5.0",
       "_view_name": "HTMLView",
       "description": "",
       "description_tooltip": null,
       "layout": "IPY_MODEL_d3825d368c66411daaf5f64488a6ae90",
       "placeholder": "​",
       "style": "IPY_MODEL_7c9c48d18b8047dd874aba698526ceb3",
       "value": " 19803/19803 [01:46&lt;00:00, 185.29it/s]"
      }
     },
     "60078a0c077944ee8a292afd68e5a325": {
      "model_module": "@jupyter-widgets/controls",
      "model_module_version": "1.5.0",
      "model_name": "HTMLModel",
      "state": {
       "_dom_classes": [],
       "_model_module": "@jupyter-widgets/controls",
       "_model_module_version": "1.5.0",
       "_model_name": "HTMLModel",
       "_view_count": null,
       "_view_module": "@jupyter-widgets/controls",
       "_view_module_version": "1.5.0",
       "_view_name": "HTMLView",
       "description": "",
       "description_tooltip": null,
       "layout": "IPY_MODEL_e0ba675bd2b344e1889843afc2479f2b",
       "placeholder": "​",
       "style": "IPY_MODEL_8a9c1f7f20274e1285607b79d859ea6f",
       "value": " 41586/41586 [01:57&lt;00:00, 354.57it/s]"
      }
     },
     "664871a15d3c4ebaa50c1aa447442388": {
      "model_module": "@jupyter-widgets/base",
      "model_module_version": "1.2.0",
      "model_name": "LayoutModel",
      "state": {
       "_model_module": "@jupyter-widgets/base",
       "_model_module_version": "1.2.0",
       "_model_name": "LayoutModel",
       "_view_count": null,
       "_view_module": "@jupyter-widgets/base",
       "_view_module_version": "1.2.0",
       "_view_name": "LayoutView",
       "align_content": null,
       "align_items": null,
       "align_self": null,
       "border": null,
       "bottom": null,
       "display": null,
       "flex": null,
       "flex_flow": null,
       "grid_area": null,
       "grid_auto_columns": null,
       "grid_auto_flow": null,
       "grid_auto_rows": null,
       "grid_column": null,
       "grid_gap": null,
       "grid_row": null,
       "grid_template_areas": null,
       "grid_template_columns": null,
       "grid_template_rows": null,
       "height": null,
       "justify_content": null,
       "justify_items": null,
       "left": null,
       "margin": null,
       "max_height": null,
       "max_width": null,
       "min_height": null,
       "min_width": null,
       "object_fit": null,
       "object_position": null,
       "order": null,
       "overflow": null,
       "overflow_x": null,
       "overflow_y": null,
       "padding": null,
       "right": null,
       "top": null,
       "visibility": null,
       "width": null
      }
     },
     "77937807e49c4357ac2d16cb725e11fe": {
      "model_module": "@jupyter-widgets/controls",
      "model_module_version": "1.5.0",
      "model_name": "HTMLModel",
      "state": {
       "_dom_classes": [],
       "_model_module": "@jupyter-widgets/controls",
       "_model_module_version": "1.5.0",
       "_model_name": "HTMLModel",
       "_view_count": null,
       "_view_module": "@jupyter-widgets/controls",
       "_view_module_version": "1.5.0",
       "_view_name": "HTMLView",
       "description": "",
       "description_tooltip": null,
       "layout": "IPY_MODEL_7c11b7be7369489ba2c903b211bf0dbe",
       "placeholder": "​",
       "style": "IPY_MODEL_af13acf8a2a446888b82eec59119af76",
       "value": " 3.27G/3.27G [01:40&lt;00:00, 32.4MB/s]"
      }
     },
     "7c11b7be7369489ba2c903b211bf0dbe": {
      "model_module": "@jupyter-widgets/base",
      "model_module_version": "1.2.0",
      "model_name": "LayoutModel",
      "state": {
       "_model_module": "@jupyter-widgets/base",
       "_model_module_version": "1.2.0",
       "_model_name": "LayoutModel",
       "_view_count": null,
       "_view_module": "@jupyter-widgets/base",
       "_view_module_version": "1.2.0",
       "_view_name": "LayoutView",
       "align_content": null,
       "align_items": null,
       "align_self": null,
       "border": null,
       "bottom": null,
       "display": null,
       "flex": null,
       "flex_flow": null,
       "grid_area": null,
       "grid_auto_columns": null,
       "grid_auto_flow": null,
       "grid_auto_rows": null,
       "grid_column": null,
       "grid_gap": null,
       "grid_row": null,
       "grid_template_areas": null,
       "grid_template_columns": null,
       "grid_template_rows": null,
       "height": null,
       "justify_content": null,
       "justify_items": null,
       "left": null,
       "margin": null,
       "max_height": null,
       "max_width": null,
       "min_height": null,
       "min_width": null,
       "object_fit": null,
       "object_position": null,
       "order": null,
       "overflow": null,
       "overflow_x": null,
       "overflow_y": null,
       "padding": null,
       "right": null,
       "top": null,
       "visibility": null,
       "width": null
      }
     },
     "7c9c48d18b8047dd874aba698526ceb3": {
      "model_module": "@jupyter-widgets/controls",
      "model_module_version": "1.5.0",
      "model_name": "DescriptionStyleModel",
      "state": {
       "_model_module": "@jupyter-widgets/controls",
       "_model_module_version": "1.5.0",
       "_model_name": "DescriptionStyleModel",
       "_view_count": null,
       "_view_module": "@jupyter-widgets/base",
       "_view_module_version": "1.2.0",
       "_view_name": "StyleView",
       "description_width": ""
      }
     },
     "8196b5ed9c3c4ca48a828f6c8b7a5a5b": {
      "model_module": "@jupyter-widgets/controls",
      "model_module_version": "1.5.0",
      "model_name": "FloatProgressModel",
      "state": {
       "_dom_classes": [],
       "_model_module": "@jupyter-widgets/controls",
       "_model_module_version": "1.5.0",
       "_model_name": "FloatProgressModel",
       "_view_count": null,
       "_view_module": "@jupyter-widgets/controls",
       "_view_module_version": "1.5.0",
       "_view_name": "ProgressView",
       "bar_style": "success",
       "description": "100%",
       "description_tooltip": null,
       "layout": "IPY_MODEL_89020f4f800144249fb67cfd4fc46aed",
       "max": 41586.0,
       "min": 0.0,
       "orientation": "horizontal",
       "style": "IPY_MODEL_9302868e2bd14a6aa49973174149ad4f",
       "value": 41586.0
      }
     },
     "88ea2df30a2047ccb5b43ddd4c41044b": {
      "model_module": "@jupyter-widgets/controls",
      "model_module_version": "1.5.0",
      "model_name": "HBoxModel",
      "state": {
       "_dom_classes": [],
       "_model_module": "@jupyter-widgets/controls",
       "_model_module_version": "1.5.0",
       "_model_name": "HBoxModel",
       "_view_count": null,
       "_view_module": "@jupyter-widgets/controls",
       "_view_module_version": "1.5.0",
       "_view_name": "HBoxView",
       "box_style": "",
       "children": [
        "IPY_MODEL_eb01086aa42549ad989ee1e360b57bde",
        "IPY_MODEL_77937807e49c4357ac2d16cb725e11fe"
       ],
       "layout": "IPY_MODEL_f9808fc4748040b0ad40fd685afa4ac1"
      }
     },
     "89020f4f800144249fb67cfd4fc46aed": {
      "model_module": "@jupyter-widgets/base",
      "model_module_version": "1.2.0",
      "model_name": "LayoutModel",
      "state": {
       "_model_module": "@jupyter-widgets/base",
       "_model_module_version": "1.2.0",
       "_model_name": "LayoutModel",
       "_view_count": null,
       "_view_module": "@jupyter-widgets/base",
       "_view_module_version": "1.2.0",
       "_view_name": "LayoutView",
       "align_content": null,
       "align_items": null,
       "align_self": null,
       "border": null,
       "bottom": null,
       "display": null,
       "flex": null,
       "flex_flow": null,
       "grid_area": null,
       "grid_auto_columns": null,
       "grid_auto_flow": null,
       "grid_auto_rows": null,
       "grid_column": null,
       "grid_gap": null,
       "grid_row": null,
       "grid_template_areas": null,
       "grid_template_columns": null,
       "grid_template_rows": null,
       "height": null,
       "justify_content": null,
       "justify_items": null,
       "left": null,
       "margin": null,
       "max_height": null,
       "max_width": null,
       "min_height": null,
       "min_width": null,
       "object_fit": null,
       "object_position": null,
       "order": null,
       "overflow": null,
       "overflow_x": null,
       "overflow_y": null,
       "padding": null,
       "right": null,
       "top": null,
       "visibility": null,
       "width": null
      }
     },
     "8a9c1f7f20274e1285607b79d859ea6f": {
      "model_module": "@jupyter-widgets/controls",
      "model_module_version": "1.5.0",
      "model_name": "DescriptionStyleModel",
      "state": {
       "_model_module": "@jupyter-widgets/controls",
       "_model_module_version": "1.5.0",
       "_model_name": "DescriptionStyleModel",
       "_view_count": null,
       "_view_module": "@jupyter-widgets/base",
       "_view_module_version": "1.2.0",
       "_view_name": "StyleView",
       "description_width": ""
      }
     },
     "9302868e2bd14a6aa49973174149ad4f": {
      "model_module": "@jupyter-widgets/controls",
      "model_module_version": "1.5.0",
      "model_name": "ProgressStyleModel",
      "state": {
       "_model_module": "@jupyter-widgets/controls",
       "_model_module_version": "1.5.0",
       "_model_name": "ProgressStyleModel",
       "_view_count": null,
       "_view_module": "@jupyter-widgets/base",
       "_view_module_version": "1.2.0",
       "_view_name": "StyleView",
       "bar_color": null,
       "description_width": "initial"
      }
     },
     "94ff115bc43b48d7b492b4d3f34ab906": {
      "model_module": "@jupyter-widgets/controls",
      "model_module_version": "1.5.0",
      "model_name": "ProgressStyleModel",
      "state": {
       "_model_module": "@jupyter-widgets/controls",
       "_model_module_version": "1.5.0",
       "_model_name": "ProgressStyleModel",
       "_view_count": null,
       "_view_module": "@jupyter-widgets/base",
       "_view_module_version": "1.2.0",
       "_view_name": "StyleView",
       "bar_color": null,
       "description_width": "initial"
      }
     },
     "9a765f5e4aa04c4cac1584459e36d5f6": {
      "model_module": "@jupyter-widgets/controls",
      "model_module_version": "1.5.0",
      "model_name": "HBoxModel",
      "state": {
       "_dom_classes": [],
       "_model_module": "@jupyter-widgets/controls",
       "_model_module_version": "1.5.0",
       "_model_name": "HBoxModel",
       "_view_count": null,
       "_view_module": "@jupyter-widgets/controls",
       "_view_module_version": "1.5.0",
       "_view_name": "HBoxView",
       "box_style": "",
       "children": [
        "IPY_MODEL_d806c81358e54bf0ae86083e87591655",
        "IPY_MODEL_4cff9d39fc484927a81989954458315b"
       ],
       "layout": "IPY_MODEL_2fcb4620aee54517be8cd10ce590fa79"
      }
     },
     "a463e75816ee42fca4132ba9a6b427fc": {
      "model_module": "@jupyter-widgets/controls",
      "model_module_version": "1.5.0",
      "model_name": "DescriptionStyleModel",
      "state": {
       "_model_module": "@jupyter-widgets/controls",
       "_model_module_version": "1.5.0",
       "_model_name": "DescriptionStyleModel",
       "_view_count": null,
       "_view_module": "@jupyter-widgets/base",
       "_view_module_version": "1.2.0",
       "_view_name": "StyleView",
       "description_width": ""
      }
     },
     "a7d62834eec74c66bdd27a83a1eede3b": {
      "model_module": "@jupyter-widgets/controls",
      "model_module_version": "1.5.0",
      "model_name": "HBoxModel",
      "state": {
       "_dom_classes": [],
       "_model_module": "@jupyter-widgets/controls",
       "_model_module_version": "1.5.0",
       "_model_name": "HBoxModel",
       "_view_count": null,
       "_view_module": "@jupyter-widgets/controls",
       "_view_module_version": "1.5.0",
       "_view_name": "HBoxView",
       "box_style": "",
       "children": [
        "IPY_MODEL_8196b5ed9c3c4ca48a828f6c8b7a5a5b",
        "IPY_MODEL_60078a0c077944ee8a292afd68e5a325"
       ],
       "layout": "IPY_MODEL_3c5fb5ce338640378a5947f5ba30b45f"
      }
     },
     "abc0281cdab748fca94e57045aba2a69": {
      "model_module": "@jupyter-widgets/controls",
      "model_module_version": "1.5.0",
      "model_name": "FloatProgressModel",
      "state": {
       "_dom_classes": [],
       "_model_module": "@jupyter-widgets/controls",
       "_model_module_version": "1.5.0",
       "_model_name": "FloatProgressModel",
       "_view_count": null,
       "_view_module": "@jupyter-widgets/controls",
       "_view_module_version": "1.5.0",
       "_view_name": "ProgressView",
       "bar_style": "success",
       "description": "Downloading: 100%",
       "description_tooltip": null,
       "layout": "IPY_MODEL_c3f1cd7e3fee40d88974fbbae99dffc5",
       "max": 513.0,
       "min": 0.0,
       "orientation": "horizontal",
       "style": "IPY_MODEL_cd53be08760c4adf917136b02b2456e7",
       "value": 513.0
      }
     },
     "af13acf8a2a446888b82eec59119af76": {
      "model_module": "@jupyter-widgets/controls",
      "model_module_version": "1.5.0",
      "model_name": "DescriptionStyleModel",
      "state": {
       "_model_module": "@jupyter-widgets/controls",
       "_model_module_version": "1.5.0",
       "_model_name": "DescriptionStyleModel",
       "_view_count": null,
       "_view_module": "@jupyter-widgets/base",
       "_view_module_version": "1.2.0",
       "_view_name": "StyleView",
       "description_width": ""
      }
     },
     "b0aac95f6f29442da9000c9d0cc1b5d6": {
      "model_module": "@jupyter-widgets/base",
      "model_module_version": "1.2.0",
      "model_name": "LayoutModel",
      "state": {
       "_model_module": "@jupyter-widgets/base",
       "_model_module_version": "1.2.0",
       "_model_name": "LayoutModel",
       "_view_count": null,
       "_view_module": "@jupyter-widgets/base",
       "_view_module_version": "1.2.0",
       "_view_name": "LayoutView",
       "align_content": null,
       "align_items": null,
       "align_self": null,
       "border": null,
       "bottom": null,
       "display": null,
       "flex": null,
       "flex_flow": null,
       "grid_area": null,
       "grid_auto_columns": null,
       "grid_auto_flow": null,
       "grid_auto_rows": null,
       "grid_column": null,
       "grid_gap": null,
       "grid_row": null,
       "grid_template_areas": null,
       "grid_template_columns": null,
       "grid_template_rows": null,
       "height": null,
       "justify_content": null,
       "justify_items": null,
       "left": null,
       "margin": null,
       "max_height": null,
       "max_width": null,
       "min_height": null,
       "min_width": null,
       "object_fit": null,
       "object_position": null,
       "order": null,
       "overflow": null,
       "overflow_x": null,
       "overflow_y": null,
       "padding": null,
       "right": null,
       "top": null,
       "visibility": null,
       "width": null
      }
     },
     "c19f5461ceaa4ee7afcfc953ae1e3ca5": {
      "model_module": "@jupyter-widgets/controls",
      "model_module_version": "1.5.0",
      "model_name": "ProgressStyleModel",
      "state": {
       "_model_module": "@jupyter-widgets/controls",
       "_model_module_version": "1.5.0",
       "_model_name": "ProgressStyleModel",
       "_view_count": null,
       "_view_module": "@jupyter-widgets/base",
       "_view_module_version": "1.2.0",
       "_view_name": "StyleView",
       "bar_color": null,
       "description_width": "initial"
      }
     },
     "c3f1cd7e3fee40d88974fbbae99dffc5": {
      "model_module": "@jupyter-widgets/base",
      "model_module_version": "1.2.0",
      "model_name": "LayoutModel",
      "state": {
       "_model_module": "@jupyter-widgets/base",
       "_model_module_version": "1.2.0",
       "_model_name": "LayoutModel",
       "_view_count": null,
       "_view_module": "@jupyter-widgets/base",
       "_view_module_version": "1.2.0",
       "_view_name": "LayoutView",
       "align_content": null,
       "align_items": null,
       "align_self": null,
       "border": null,
       "bottom": null,
       "display": null,
       "flex": null,
       "flex_flow": null,
       "grid_area": null,
       "grid_auto_columns": null,
       "grid_auto_flow": null,
       "grid_auto_rows": null,
       "grid_column": null,
       "grid_gap": null,
       "grid_row": null,
       "grid_template_areas": null,
       "grid_template_columns": null,
       "grid_template_rows": null,
       "height": null,
       "justify_content": null,
       "justify_items": null,
       "left": null,
       "margin": null,
       "max_height": null,
       "max_width": null,
       "min_height": null,
       "min_width": null,
       "object_fit": null,
       "object_position": null,
       "order": null,
       "overflow": null,
       "overflow_x": null,
       "overflow_y": null,
       "padding": null,
       "right": null,
       "top": null,
       "visibility": null,
       "width": null
      }
     },
     "c724f83d35f04be9a3e3f2731a705396": {
      "model_module": "@jupyter-widgets/controls",
      "model_module_version": "1.5.0",
      "model_name": "HBoxModel",
      "state": {
       "_dom_classes": [],
       "_model_module": "@jupyter-widgets/controls",
       "_model_module_version": "1.5.0",
       "_model_name": "HBoxModel",
       "_view_count": null,
       "_view_module": "@jupyter-widgets/controls",
       "_view_module_version": "1.5.0",
       "_view_name": "HBoxView",
       "box_style": "",
       "children": [
        "IPY_MODEL_abc0281cdab748fca94e57045aba2a69",
        "IPY_MODEL_efe8601c9e2b41c09805aa2fa1e73a52"
       ],
       "layout": "IPY_MODEL_664871a15d3c4ebaa50c1aa447442388"
      }
     },
     "cbc4e3eadae74f1ca41ee4ebf3327dae": {
      "model_module": "@jupyter-widgets/base",
      "model_module_version": "1.2.0",
      "model_name": "LayoutModel",
      "state": {
       "_model_module": "@jupyter-widgets/base",
       "_model_module_version": "1.2.0",
       "_model_name": "LayoutModel",
       "_view_count": null,
       "_view_module": "@jupyter-widgets/base",
       "_view_module_version": "1.2.0",
       "_view_name": "LayoutView",
       "align_content": null,
       "align_items": null,
       "align_self": null,
       "border": null,
       "bottom": null,
       "display": null,
       "flex": null,
       "flex_flow": null,
       "grid_area": null,
       "grid_auto_columns": null,
       "grid_auto_flow": null,
       "grid_auto_rows": null,
       "grid_column": null,
       "grid_gap": null,
       "grid_row": null,
       "grid_template_areas": null,
       "grid_template_columns": null,
       "grid_template_rows": null,
       "height": null,
       "justify_content": null,
       "justify_items": null,
       "left": null,
       "margin": null,
       "max_height": null,
       "max_width": null,
       "min_height": null,
       "min_width": null,
       "object_fit": null,
       "object_position": null,
       "order": null,
       "overflow": null,
       "overflow_x": null,
       "overflow_y": null,
       "padding": null,
       "right": null,
       "top": null,
       "visibility": null,
       "width": null
      }
     },
     "cd53be08760c4adf917136b02b2456e7": {
      "model_module": "@jupyter-widgets/controls",
      "model_module_version": "1.5.0",
      "model_name": "ProgressStyleModel",
      "state": {
       "_model_module": "@jupyter-widgets/controls",
       "_model_module_version": "1.5.0",
       "_model_name": "ProgressStyleModel",
       "_view_count": null,
       "_view_module": "@jupyter-widgets/base",
       "_view_module_version": "1.2.0",
       "_view_name": "StyleView",
       "bar_color": null,
       "description_width": "initial"
      }
     },
     "d37881a77908459388993b6e6764d04f": {
      "model_module": "@jupyter-widgets/controls",
      "model_module_version": "1.5.0",
      "model_name": "FloatProgressModel",
      "state": {
       "_dom_classes": [],
       "_model_module": "@jupyter-widgets/controls",
       "_model_module_version": "1.5.0",
       "_model_name": "FloatProgressModel",
       "_view_count": null,
       "_view_module": "@jupyter-widgets/controls",
       "_view_module_version": "1.5.0",
       "_view_name": "ProgressView",
       "bar_style": "success",
       "description": "Downloading: 100%",
       "description_tooltip": null,
       "layout": "IPY_MODEL_13de14d1935e41738aaf3b850cca4ad6",
       "max": 5069051.0,
       "min": 0.0,
       "orientation": "horizontal",
       "style": "IPY_MODEL_08df3b6dbdbb490985c33e05fd5eb256",
       "value": 5069051.0
      }
     },
     "d3825d368c66411daaf5f64488a6ae90": {
      "model_module": "@jupyter-widgets/base",
      "model_module_version": "1.2.0",
      "model_name": "LayoutModel",
      "state": {
       "_model_module": "@jupyter-widgets/base",
       "_model_module_version": "1.2.0",
       "_model_name": "LayoutModel",
       "_view_count": null,
       "_view_module": "@jupyter-widgets/base",
       "_view_module_version": "1.2.0",
       "_view_name": "LayoutView",
       "align_content": null,
       "align_items": null,
       "align_self": null,
       "border": null,
       "bottom": null,
       "display": null,
       "flex": null,
       "flex_flow": null,
       "grid_area": null,
       "grid_auto_columns": null,
       "grid_auto_flow": null,
       "grid_auto_rows": null,
       "grid_column": null,
       "grid_gap": null,
       "grid_row": null,
       "grid_template_areas": null,
       "grid_template_columns": null,
       "grid_template_rows": null,
       "height": null,
       "justify_content": null,
       "justify_items": null,
       "left": null,
       "margin": null,
       "max_height": null,
       "max_width": null,
       "min_height": null,
       "min_width": null,
       "object_fit": null,
       "object_position": null,
       "order": null,
       "overflow": null,
       "overflow_x": null,
       "overflow_y": null,
       "padding": null,
       "right": null,
       "top": null,
       "visibility": null,
       "width": null
      }
     },
     "d70c277f524241c6aa51fa0ac6da3d96": {
      "model_module": "@jupyter-widgets/base",
      "model_module_version": "1.2.0",
      "model_name": "LayoutModel",
      "state": {
       "_model_module": "@jupyter-widgets/base",
       "_model_module_version": "1.2.0",
       "_model_name": "LayoutModel",
       "_view_count": null,
       "_view_module": "@jupyter-widgets/base",
       "_view_module_version": "1.2.0",
       "_view_name": "LayoutView",
       "align_content": null,
       "align_items": null,
       "align_self": null,
       "border": null,
       "bottom": null,
       "display": null,
       "flex": null,
       "flex_flow": null,
       "grid_area": null,
       "grid_auto_columns": null,
       "grid_auto_flow": null,
       "grid_auto_rows": null,
       "grid_column": null,
       "grid_gap": null,
       "grid_row": null,
       "grid_template_areas": null,
       "grid_template_columns": null,
       "grid_template_rows": null,
       "height": null,
       "justify_content": null,
       "justify_items": null,
       "left": null,
       "margin": null,
       "max_height": null,
       "max_width": null,
       "min_height": null,
       "min_width": null,
       "object_fit": null,
       "object_position": null,
       "order": null,
       "overflow": null,
       "overflow_x": null,
       "overflow_y": null,
       "padding": null,
       "right": null,
       "top": null,
       "visibility": null,
       "width": null
      }
     },
     "d806c81358e54bf0ae86083e87591655": {
      "model_module": "@jupyter-widgets/controls",
      "model_module_version": "1.5.0",
      "model_name": "FloatProgressModel",
      "state": {
       "_dom_classes": [],
       "_model_module": "@jupyter-widgets/controls",
       "_model_module_version": "1.5.0",
       "_model_name": "FloatProgressModel",
       "_view_count": null,
       "_view_module": "@jupyter-widgets/controls",
       "_view_module_version": "1.5.0",
       "_view_name": "ProgressView",
       "bar_style": "success",
       "description": "100%",
       "description_tooltip": null,
       "layout": "IPY_MODEL_b0aac95f6f29442da9000c9d0cc1b5d6",
       "max": 19803.0,
       "min": 0.0,
       "orientation": "horizontal",
       "style": "IPY_MODEL_c19f5461ceaa4ee7afcfc953ae1e3ca5",
       "value": 19803.0
      }
     },
     "e0ba675bd2b344e1889843afc2479f2b": {
      "model_module": "@jupyter-widgets/base",
      "model_module_version": "1.2.0",
      "model_name": "LayoutModel",
      "state": {
       "_model_module": "@jupyter-widgets/base",
       "_model_module_version": "1.2.0",
       "_model_name": "LayoutModel",
       "_view_count": null,
       "_view_module": "@jupyter-widgets/base",
       "_view_module_version": "1.2.0",
       "_view_name": "LayoutView",
       "align_content": null,
       "align_items": null,
       "align_self": null,
       "border": null,
       "bottom": null,
       "display": null,
       "flex": null,
       "flex_flow": null,
       "grid_area": null,
       "grid_auto_columns": null,
       "grid_auto_flow": null,
       "grid_auto_rows": null,
       "grid_column": null,
       "grid_gap": null,
       "grid_row": null,
       "grid_template_areas": null,
       "grid_template_columns": null,
       "grid_template_rows": null,
       "height": null,
       "justify_content": null,
       "justify_items": null,
       "left": null,
       "margin": null,
       "max_height": null,
       "max_width": null,
       "min_height": null,
       "min_width": null,
       "object_fit": null,
       "object_position": null,
       "order": null,
       "overflow": null,
       "overflow_x": null,
       "overflow_y": null,
       "padding": null,
       "right": null,
       "top": null,
       "visibility": null,
       "width": null
      }
     },
     "eb01086aa42549ad989ee1e360b57bde": {
      "model_module": "@jupyter-widgets/controls",
      "model_module_version": "1.5.0",
      "model_name": "FloatProgressModel",
      "state": {
       "_dom_classes": [],
       "_model_module": "@jupyter-widgets/controls",
       "_model_module_version": "1.5.0",
       "_model_name": "FloatProgressModel",
       "_view_count": null,
       "_view_module": "@jupyter-widgets/controls",
       "_view_module_version": "1.5.0",
       "_view_name": "ProgressView",
       "bar_style": "success",
       "description": "Downloading: 100%",
       "description_tooltip": null,
       "layout": "IPY_MODEL_d70c277f524241c6aa51fa0ac6da3d96",
       "max": 3271420488.0,
       "min": 0.0,
       "orientation": "horizontal",
       "style": "IPY_MODEL_94ff115bc43b48d7b492b4d3f34ab906",
       "value": 3271420488.0
      }
     },
     "efe8601c9e2b41c09805aa2fa1e73a52": {
      "model_module": "@jupyter-widgets/controls",
      "model_module_version": "1.5.0",
      "model_name": "HTMLModel",
      "state": {
       "_dom_classes": [],
       "_model_module": "@jupyter-widgets/controls",
       "_model_module_version": "1.5.0",
       "_model_name": "HTMLModel",
       "_view_count": null,
       "_view_module": "@jupyter-widgets/controls",
       "_view_module_version": "1.5.0",
       "_view_name": "HTMLView",
       "description": "",
       "description_tooltip": null,
       "layout": "IPY_MODEL_293412f352784c3d88e540e13af0a9ad",
       "placeholder": "​",
       "style": "IPY_MODEL_a463e75816ee42fca4132ba9a6b427fc",
       "value": " 513/513 [00:00&lt;00:00, 1.28kB/s]"
      }
     },
     "f53a9b5781884fabbc1a82da7780cbf6": {
      "model_module": "@jupyter-widgets/base",
      "model_module_version": "1.2.0",
      "model_name": "LayoutModel",
      "state": {
       "_model_module": "@jupyter-widgets/base",
       "_model_module_version": "1.2.0",
       "_model_name": "LayoutModel",
       "_view_count": null,
       "_view_module": "@jupyter-widgets/base",
       "_view_module_version": "1.2.0",
       "_view_name": "LayoutView",
       "align_content": null,
       "align_items": null,
       "align_self": null,
       "border": null,
       "bottom": null,
       "display": null,
       "flex": null,
       "flex_flow": null,
       "grid_area": null,
       "grid_auto_columns": null,
       "grid_auto_flow": null,
       "grid_auto_rows": null,
       "grid_column": null,
       "grid_gap": null,
       "grid_row": null,
       "grid_template_areas": null,
       "grid_template_columns": null,
       "grid_template_rows": null,
       "height": null,
       "justify_content": null,
       "justify_items": null,
       "left": null,
       "margin": null,
       "max_height": null,
       "max_width": null,
       "min_height": null,
       "min_width": null,
       "object_fit": null,
       "object_position": null,
       "order": null,
       "overflow": null,
       "overflow_x": null,
       "overflow_y": null,
       "padding": null,
       "right": null,
       "top": null,
       "visibility": null,
       "width": null
      }
     },
     "f9808fc4748040b0ad40fd685afa4ac1": {
      "model_module": "@jupyter-widgets/base",
      "model_module_version": "1.2.0",
      "model_name": "LayoutModel",
      "state": {
       "_model_module": "@jupyter-widgets/base",
       "_model_module_version": "1.2.0",
       "_model_name": "LayoutModel",
       "_view_count": null,
       "_view_module": "@jupyter-widgets/base",
       "_view_module_version": "1.2.0",
       "_view_name": "LayoutView",
       "align_content": null,
       "align_items": null,
       "align_self": null,
       "border": null,
       "bottom": null,
       "display": null,
       "flex": null,
       "flex_flow": null,
       "grid_area": null,
       "grid_auto_columns": null,
       "grid_auto_flow": null,
       "grid_auto_rows": null,
       "grid_column": null,
       "grid_gap": null,
       "grid_row": null,
       "grid_template_areas": null,
       "grid_template_columns": null,
       "grid_template_rows": null,
       "height": null,
       "justify_content": null,
       "justify_items": null,
       "left": null,
       "margin": null,
       "max_height": null,
       "max_width": null,
       "min_height": null,
       "min_width": null,
       "object_fit": null,
       "object_position": null,
       "order": null,
       "overflow": null,
       "overflow_x": null,
       "overflow_y": null,
       "padding": null,
       "right": null,
       "top": null,
       "visibility": null,
       "width": null
      }
     }
    },
    "version_major": 2,
    "version_minor": 0
   }
  }
 },
 "nbformat": 4,
 "nbformat_minor": 4
}
